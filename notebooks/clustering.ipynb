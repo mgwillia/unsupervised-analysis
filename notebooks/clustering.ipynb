{
 "cells": [
  {
   "cell_type": "code",
   "execution_count": 1,
   "id": "81ce7b68",
   "metadata": {},
   "outputs": [
    {
     "name": "stdout",
     "output_type": "stream",
     "text": [
      "torch.Size([1281167, 128])\n",
      "torch.Size([50000, 128])\n",
      "torch.Size([1281167, 128])\n",
      "torch.Size([50000, 128])\n",
      "torch.Size([3000, 128])\n",
      "torch.Size([3000, 128])\n",
      "torch.Size([3000, 128])\n",
      "torch.Size([3000, 128])\n",
      "torch.Size([1281167, 3000])\n",
      "torch.Size([50000, 3000])\n",
      "torch.Size([1281167, 3000])\n",
      "torch.Size([50000, 3000])\n",
      "torch.Size([1281167, 3000])\n",
      "torch.Size([50000, 3000])\n"
     ]
    }
   ],
   "source": [
    "import torch\n",
    "\n",
    "dc_model = torch.load('/vulcanscratch/mgwillia/unsupervised-classification/backbones/dcv2_r50_800.pth.tar', map_location='cpu')\n",
    "dc_projections = torch.load('/vulcanscratch/mgwillia/vissl/features/dcv2_r50_800_imagenet_projections.pth.tar', map_location='cpu')\n",
    "dc_train_projections = dc_projections['train_features']\n",
    "dc_val_projections = dc_projections['val_features']\n",
    "\n",
    "dc_protoype_1 = dc_model['prototypes.prototypes0.weight']\n",
    "dc_protoype_2 = dc_model['prototypes.prototypes1.weight']\n",
    "dc_protoype_3 = dc_model['prototypes.prototypes2.weight']\n",
    "\n",
    "swav_model = torch.load('/vulcanscratch/mgwillia/unsupervised-classification/backbones/swav_r50_800.torch', map_location='cpu')\n",
    "swav_projections = torch.load('/vulcanscratch/mgwillia/vissl/features/swav_r50_800_imagenet_projections.pth.tar', map_location='cpu')\n",
    "swav_train_projections = swav_projections['train_features']\n",
    "swav_val_projections = swav_projections['val_features']\n",
    "\n",
    "swav_prototype = swav_model['classy_state_dict']['base_model']['model']['heads']['0.prototypes0.weight']\n",
    "\n",
    "print(dc_train_projections.shape)\n",
    "print(dc_val_projections.shape)\n",
    "print(swav_train_projections.shape)\n",
    "print(swav_val_projections.shape)\n",
    "\n",
    "print(dc_protoype_1.shape)\n",
    "print(dc_protoype_2.shape)\n",
    "print(dc_protoype_3.shape)\n",
    "print(swav_prototype.shape)\n",
    "\n",
    "cluster_train_codes_list = []\n",
    "cluster_val_codes_list = []\n",
    "for dc_prototype in [dc_protoype_1, dc_protoype_2, dc_protoype_3]:\n",
    "    cluster_train_codes = torch.mm(dc_train_projections, dc_prototype.t())\n",
    "    cluster_val_codes = torch.mm(dc_val_projections, dc_prototype.t())\n",
    "    print(cluster_train_codes.shape)\n",
    "    print(cluster_val_codes.shape)\n",
    "    cluster_train_codes_list.append(cluster_train_codes)\n",
    "    cluster_val_codes_list.append(cluster_val_codes)\n",
    "cluster_train_codes = torch.mm(swav_train_projections, swav_prototype.t())\n",
    "cluster_val_codes = torch.mm(swav_val_projections, swav_prototype.t())\n",
    "cluster_train_codes_list.append(cluster_train_codes)\n",
    "cluster_val_codes_list.append(cluster_val_codes)"
   ]
  },
  {
   "cell_type": "code",
   "execution_count": 2,
   "id": "50f3ad74",
   "metadata": {},
   "outputs": [
    {
     "name": "stdout",
     "output_type": "stream",
     "text": [
      "(3000,)\n",
      "Validation accuracy: 0.54316\n",
      "(3000,)\n",
      "Validation accuracy: 0.54256\n",
      "(3000,)\n",
      "Validation accuracy: 0.54478\n",
      "(3000,)\n",
      "Validation accuracy: 0.489\n"
     ]
    }
   ],
   "source": [
    "import numpy as np\n",
    "import torch\n",
    "\n",
    "train_targets = torch.load(f'/vulcanscratch/mgwillia/vissl/features/swav_r50_800_imagenet_targets.pth.tar')['train_targets'].numpy()\n",
    "val_targets = torch.load(f'/vulcanscratch/mgwillia/vissl/features/swav_r50_800_imagenet_targets.pth.tar')['val_targets'].numpy()\n",
    "\n",
    "for i, train_codes in enumerate(cluster_train_codes_list):\n",
    "    val_codes = cluster_val_codes_list[i]\n",
    "    train_clusters = torch.argmax(train_codes, dim=1)\n",
    "    val_clusters = torch.argmax(val_codes, dim=1)\n",
    "    cluster_target_votes = torch.zeros((train_codes.shape[1], 1000))\n",
    "    for j in range(train_clusters.shape[0]):\n",
    "        cur_cluster = train_clusters[j]\n",
    "        cur_target = train_targets[j]\n",
    "        cluster_target_votes[cur_cluster][cur_target] += 1\n",
    "    overcluster_label_mapping = torch.argmax(cluster_target_votes, dim=1).numpy()\n",
    "    print(overcluster_label_mapping.shape)\n",
    "    remapped_predictions = np.zeros(val_clusters.shape[0])\n",
    "    for j in range(val_clusters.shape[0]):\n",
    "        remapped_predictions[j] = overcluster_label_mapping[val_clusters[j]]\n",
    "    val_accuracy =  np.where((val_targets == remapped_predictions), 1, 0).mean()\n",
    "    print(f'Validation accuracy: {val_accuracy}')"
   ]
  },
  {
   "cell_type": "code",
   "execution_count": 3,
   "id": "f8859415",
   "metadata": {},
   "outputs": [
    {
     "name": "stdout",
     "output_type": "stream",
     "text": [
      "(1281167,)\n",
      "Validation accuracy: 0.4215\n",
      "Validation accuracy: 0.4215\n",
      "(1281167,)\n",
      "Validation accuracy: 0.43024\n",
      "Validation accuracy: 0.43024\n",
      "(1281167,)\n",
      "Validation accuracy: 0.43672\n",
      "Validation accuracy: 0.43672\n"
     ]
    }
   ],
   "source": [
    "import numpy as np\n",
    "import os\n",
    "import torch\n",
    "\n",
    "train_targets = torch.load(f'/vulcanscratch/mgwillia/vissl/features/swav_r50_800_imagenet_targets.pth.tar')['train_targets'].numpy()\n",
    "val_targets = torch.load(f'/vulcanscratch/mgwillia/vissl/features/swav_r50_800_imagenet_targets.pth.tar')['val_targets'].numpy()\n",
    "\n",
    "root = '/vulcanscratch/mgwillia/vissl/clusters/'\n",
    "methods = ['btwins_r50_1000', 'dcv2_r50_800', 'moco_r50_800']\n",
    "for method in methods:\n",
    "    train_clusters = np.load(f'/vulcanscratch/mgwillia/vissl/clusters/{method}_imagenet3k_labels.npy')\n",
    "    val_clusters = np.load(f'/vulcanscratch/mgwillia/vissl/clusters/{method}_imagenet3k_predictions.npy')\n",
    "    cluster_target_votes = np.zeros((train_clusters.shape[0], 1000))\n",
    "    for i in range(train_clusters.shape[0]):\n",
    "        cur_cluster = train_clusters[i]\n",
    "        cur_target = train_targets[i]\n",
    "        cluster_target_votes[cur_cluster][cur_target] += 1\n",
    "    overcluster_label_mapping = np.argmax(cluster_target_votes, axis=1)\n",
    "    print(overcluster_label_mapping.shape)\n",
    "    remapped_predictions = np.zeros(val_clusters.shape[0])\n",
    "    for i in range(val_clusters.shape[0]):\n",
    "        remapped_predictions[i] = overcluster_label_mapping[val_clusters[i]]\n",
    "    val_accuracy = np.where((val_targets == remapped_predictions), 1, 0).mean()\n",
    "    print(f'Validation accuracy: {val_accuracy}')\n",
    "    "
   ]
  },
  {
   "cell_type": "code",
   "execution_count": null,
   "id": "050ada9a",
   "metadata": {},
   "outputs": [],
   "source": []
  }
 ],
 "metadata": {
  "kernelspec": {
   "display_name": "Python 3 (ipykernel)",
   "language": "python",
   "name": "python3"
  },
  "language_info": {
   "codemirror_mode": {
    "name": "ipython",
    "version": 3
   },
   "file_extension": ".py",
   "mimetype": "text/x-python",
   "name": "python",
   "nbconvert_exporter": "python",
   "pygments_lexer": "ipython3",
   "version": "3.8.1"
  }
 },
 "nbformat": 4,
 "nbformat_minor": 5
}
